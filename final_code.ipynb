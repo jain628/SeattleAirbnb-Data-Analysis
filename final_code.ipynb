{
 "cells": [
  {
   "cell_type": "markdown",
   "id": "b59fcf5f",
   "metadata": {},
   "source": [
    "# Seattle Airbnb Data Analysis using CRISP-DM\n",
    "\n",
    "### 6 steps of CRISP-DM (Cross-Industry Standard Process for Data Mining):\n",
    "\n",
    "<b>1.Business Understanding<br>\n",
    "2.Data Understanding<br>\n",
    "3.Data Preparation<br>\n",
    "4.Modelling<br>\n",
    "5.Evaluation<br>\n",
    "6.Deployment<br></b>\n",
    "\n",
    "### 1. Business Understanding\n",
    "Airbnb has been allowing visitors and hosts to expand their travel options and provide a more distinctive, personalised way of experiencing the world since 2008. Airbnb has evolved into a one-of-a-kind service that is used and recognised all over the world. The company's data analysis of millions of listings offered by Airbnb is a critical aspect. These millions of listings generate a lot of data, which can be analysed and used for a variety of purposes, including security, business decisions, understanding customer and provider (host) behaviour and performance on the platform, guiding marketing initiatives, and implementing innovative additional services, among others.\n",
    "\n",
    "In this project, we are going to use calendar.csv, listings.csv and reviews.csv to answer a few business questions:<br>\n",
    "\n",
    "1. Which cities in Seattle provide the highest listings.<br>\n",
    "2. What kind of properties are available in Seattle listings with a relatively high price and instant bookings.<br>\n",
    "3. How does the host deals with cancellation policies from customers.<br>\n",
    "4. How does the customer feel about their experience with the listings of Seattle.<br>\n",
    "5. Price Prediction. <br>\n",
    "\n",
    "### 2. Data Understanding\n",
    "The Seatlle Airbnb Open Dataset catalogues homestay listings in Seattle, Washington from 01-2016 to 01-2017.\n",
    "\n",
    "There are 3 subsets in the dataset:\n",
    "\n",
    "The pricing for each listing id for a certain day is described in calendar.csv.<br>\n",
    "listings.csv contains a detailed description of each listing id, as well as review scores.<br>\n",
    "For each individual listing id, reviews.csv gives detailed reviews.<br>"
   ]
  },
  {
   "cell_type": "markdown",
   "id": "83f246ca",
   "metadata": {},
   "source": [
    "\n",
    "Here's an article on<a href =\"https://google.com\"> How to ‘break the ice with Datasets’ and then leverage their friendship to Gain Useful Insights for any ‘Data Savvy’</a>using this dataset.<br>\n",
    "You can find all the detailed codes here by clicking on the respective links.<br>\n",
    "[Business Understanding](#1.-Business-Understanding)<br>\n",
    "[Data Understanding](#2.-Data-Understanding)<br>\n",
    "[Data Preparation](#3.-Data-Preparation)<br>\n",
    "[1.Missing values check](#Missing-Values-Check)<br>\n",
    "[2.Treating price column datatype](#Treating-Price-column-datatype)<br>\n",
    "[3.Further Exploring the Data for Unique values check](#Further-Exploring-the-Data-for-Unique-values-check)<br>\n",
    "[4.Dropping columns with 0 fill rates](#Dropping-columns-with-0-fill-rates)<br>\n",
    "[5.Handling Categorical Data](#Handling-Categorical-Data)<br>\n",
    "[6.Visual Analysis](#Visual-Analysis)<br>\n",
    "[7.Data Modelling](#4.Data-Modelling)<br>\n",
    "[8.Evaluation](#5.Evaluation)<br>\n",
    "[9.Text Data handling](#Sentiment-analysis)<br>\n",
    "[10.1.Business Insights gathering1](#Q3.-Which-cities-in-Seattle-provide-the-highest-listings.)<br>\n",
    "[10.2.Business Insights gathering2](#Q1.-What-kind-of-properties-are-available-in-Seattle-listings-with-a-relatively-high-price-and-instant-bookings.)<br>\n",
    "[10.3.Business Insights gathering3](#Q2.-How-does-the-host-deals-with-cancellation-policies-from-customers.)<br>\n"
   ]
  },
  {
   "cell_type": "markdown",
   "id": "61cf09c2",
   "metadata": {},
   "source": [
    "### 3. Data Preparation"
   ]
  },
  {
   "cell_type": "code",
   "execution_count": 1,
   "id": "5324f0ac",
   "metadata": {},
   "outputs": [],
   "source": [
    "#Importing necessary libraries\n",
    "#for statistical analysis\n",
    "import pandas as pd\n",
    "import numpy as np\n",
    "#for visualization\n",
    "import seaborn as sns\n",
    "import matplotlib.pyplot as plt\n",
    "#for NLP\n",
    "from textblob import TextBlob\n",
    "#for Machine learning\n",
    "from sklearn.model_selection import train_test_split\n",
    "from sklearn.metrics import r2_score, mean_squared_error\n",
    "from sklearn.ensemble import RandomForestRegressor"
   ]
  },
  {
   "cell_type": "code",
   "execution_count": 2,
   "id": "f8dd9729",
   "metadata": {},
   "outputs": [],
   "source": [
    "#Reading datasets\n",
    "#1.calendar\n",
    "calendar = pd.read_csv(r'calendar.csv')\n",
    "#2.Listings\n",
    "listings = pd.read_csv(r'listings.csv')\n",
    "#3.Reviews\n",
    "reviews = pd.read_csv(r'reviews.csv')"
   ]
  },
  {
   "cell_type": "markdown",
   "id": "22d601fd",
   "metadata": {},
   "source": [
    "### Feel of the data"
   ]
  },
  {
   "cell_type": "code",
   "execution_count": 3,
   "id": "68ac6b4f",
   "metadata": {},
   "outputs": [
    {
     "data": {
      "text/html": [
       "<div>\n",
       "<style scoped>\n",
       "    .dataframe tbody tr th:only-of-type {\n",
       "        vertical-align: middle;\n",
       "    }\n",
       "\n",
       "    .dataframe tbody tr th {\n",
       "        vertical-align: top;\n",
       "    }\n",
       "\n",
       "    .dataframe thead th {\n",
       "        text-align: right;\n",
       "    }\n",
       "</style>\n",
       "<table border=\"1\" class=\"dataframe\">\n",
       "  <thead>\n",
       "    <tr style=\"text-align: right;\">\n",
       "      <th></th>\n",
       "      <th>listing_id</th>\n",
       "      <th>date</th>\n",
       "      <th>available</th>\n",
       "      <th>price</th>\n",
       "    </tr>\n",
       "  </thead>\n",
       "  <tbody>\n",
       "    <tr>\n",
       "      <th>0</th>\n",
       "      <td>241032</td>\n",
       "      <td>2016-01-04</td>\n",
       "      <td>t</td>\n",
       "      <td>$85.00</td>\n",
       "    </tr>\n",
       "    <tr>\n",
       "      <th>1</th>\n",
       "      <td>241032</td>\n",
       "      <td>2016-01-05</td>\n",
       "      <td>t</td>\n",
       "      <td>$85.00</td>\n",
       "    </tr>\n",
       "    <tr>\n",
       "      <th>2</th>\n",
       "      <td>241032</td>\n",
       "      <td>2016-01-06</td>\n",
       "      <td>f</td>\n",
       "      <td>NaN</td>\n",
       "    </tr>\n",
       "  </tbody>\n",
       "</table>\n",
       "</div>"
      ],
      "text/plain": [
       "   listing_id        date available   price\n",
       "0      241032  2016-01-04         t  $85.00\n",
       "1      241032  2016-01-05         t  $85.00\n",
       "2      241032  2016-01-06         f     NaN"
      ]
     },
     "execution_count": 3,
     "metadata": {},
     "output_type": "execute_result"
    }
   ],
   "source": [
    "#for calendar\n",
    "calendar.head(3)"
   ]
  },
  {
   "cell_type": "code",
   "execution_count": 4,
   "id": "1928e51c",
   "metadata": {},
   "outputs": [
    {
     "name": "stdout",
     "output_type": "stream",
     "text": [
      "<class 'pandas.core.frame.DataFrame'>\n",
      "RangeIndex: 1393570 entries, 0 to 1393569\n",
      "Data columns (total 4 columns):\n",
      " #   Column      Non-Null Count    Dtype \n",
      "---  ------      --------------    ----- \n",
      " 0   listing_id  1393570 non-null  int64 \n",
      " 1   date        1393570 non-null  object\n",
      " 2   available   1393570 non-null  object\n",
      " 3   price       934542 non-null   object\n",
      "dtypes: int64(1), object(3)\n",
      "memory usage: 42.5+ MB\n"
     ]
    }
   ],
   "source": [
    "calendar.info()"
   ]
  },
  {
   "cell_type": "code",
   "execution_count": 5,
   "id": "f0faf5d5",
   "metadata": {},
   "outputs": [
    {
     "data": {
      "text/html": [
       "<div>\n",
       "<style scoped>\n",
       "    .dataframe tbody tr th:only-of-type {\n",
       "        vertical-align: middle;\n",
       "    }\n",
       "\n",
       "    .dataframe tbody tr th {\n",
       "        vertical-align: top;\n",
       "    }\n",
       "\n",
       "    .dataframe thead th {\n",
       "        text-align: right;\n",
       "    }\n",
       "</style>\n",
       "<table border=\"1\" class=\"dataframe\">\n",
       "  <thead>\n",
       "    <tr style=\"text-align: right;\">\n",
       "      <th></th>\n",
       "      <th>id</th>\n",
       "      <th>listing_url</th>\n",
       "      <th>scrape_id</th>\n",
       "      <th>last_scraped</th>\n",
       "      <th>name</th>\n",
       "      <th>summary</th>\n",
       "      <th>space</th>\n",
       "      <th>description</th>\n",
       "      <th>experiences_offered</th>\n",
       "      <th>neighborhood_overview</th>\n",
       "      <th>...</th>\n",
       "      <th>review_scores_value</th>\n",
       "      <th>requires_license</th>\n",
       "      <th>license</th>\n",
       "      <th>jurisdiction_names</th>\n",
       "      <th>instant_bookable</th>\n",
       "      <th>cancellation_policy</th>\n",
       "      <th>require_guest_profile_picture</th>\n",
       "      <th>require_guest_phone_verification</th>\n",
       "      <th>calculated_host_listings_count</th>\n",
       "      <th>reviews_per_month</th>\n",
       "    </tr>\n",
       "  </thead>\n",
       "  <tbody>\n",
       "    <tr>\n",
       "      <th>0</th>\n",
       "      <td>241032</td>\n",
       "      <td>https://www.airbnb.com/rooms/241032</td>\n",
       "      <td>20160104002432</td>\n",
       "      <td>2016-01-04</td>\n",
       "      <td>Stylish Queen Anne Apartment</td>\n",
       "      <td>NaN</td>\n",
       "      <td>Make your self at home in this charming one-be...</td>\n",
       "      <td>Make your self at home in this charming one-be...</td>\n",
       "      <td>none</td>\n",
       "      <td>NaN</td>\n",
       "      <td>...</td>\n",
       "      <td>10.0</td>\n",
       "      <td>f</td>\n",
       "      <td>NaN</td>\n",
       "      <td>WASHINGTON</td>\n",
       "      <td>f</td>\n",
       "      <td>moderate</td>\n",
       "      <td>f</td>\n",
       "      <td>f</td>\n",
       "      <td>2</td>\n",
       "      <td>4.07</td>\n",
       "    </tr>\n",
       "    <tr>\n",
       "      <th>1</th>\n",
       "      <td>953595</td>\n",
       "      <td>https://www.airbnb.com/rooms/953595</td>\n",
       "      <td>20160104002432</td>\n",
       "      <td>2016-01-04</td>\n",
       "      <td>Bright &amp; Airy Queen Anne Apartment</td>\n",
       "      <td>Chemically sensitive? We've removed the irrita...</td>\n",
       "      <td>Beautiful, hypoallergenic apartment in an extr...</td>\n",
       "      <td>Chemically sensitive? We've removed the irrita...</td>\n",
       "      <td>none</td>\n",
       "      <td>Queen Anne is a wonderful, truly functional vi...</td>\n",
       "      <td>...</td>\n",
       "      <td>10.0</td>\n",
       "      <td>f</td>\n",
       "      <td>NaN</td>\n",
       "      <td>WASHINGTON</td>\n",
       "      <td>f</td>\n",
       "      <td>strict</td>\n",
       "      <td>t</td>\n",
       "      <td>t</td>\n",
       "      <td>6</td>\n",
       "      <td>1.48</td>\n",
       "    </tr>\n",
       "  </tbody>\n",
       "</table>\n",
       "<p>2 rows × 92 columns</p>\n",
       "</div>"
      ],
      "text/plain": [
       "       id                          listing_url       scrape_id last_scraped  \\\n",
       "0  241032  https://www.airbnb.com/rooms/241032  20160104002432   2016-01-04   \n",
       "1  953595  https://www.airbnb.com/rooms/953595  20160104002432   2016-01-04   \n",
       "\n",
       "                                 name  \\\n",
       "0        Stylish Queen Anne Apartment   \n",
       "1  Bright & Airy Queen Anne Apartment   \n",
       "\n",
       "                                             summary  \\\n",
       "0                                                NaN   \n",
       "1  Chemically sensitive? We've removed the irrita...   \n",
       "\n",
       "                                               space  \\\n",
       "0  Make your self at home in this charming one-be...   \n",
       "1  Beautiful, hypoallergenic apartment in an extr...   \n",
       "\n",
       "                                         description experiences_offered  \\\n",
       "0  Make your self at home in this charming one-be...                none   \n",
       "1  Chemically sensitive? We've removed the irrita...                none   \n",
       "\n",
       "                               neighborhood_overview  ... review_scores_value  \\\n",
       "0                                                NaN  ...                10.0   \n",
       "1  Queen Anne is a wonderful, truly functional vi...  ...                10.0   \n",
       "\n",
       "  requires_license license jurisdiction_names instant_bookable  \\\n",
       "0                f     NaN         WASHINGTON                f   \n",
       "1                f     NaN         WASHINGTON                f   \n",
       "\n",
       "  cancellation_policy  require_guest_profile_picture  \\\n",
       "0            moderate                              f   \n",
       "1              strict                              t   \n",
       "\n",
       "  require_guest_phone_verification calculated_host_listings_count  \\\n",
       "0                                f                              2   \n",
       "1                                t                              6   \n",
       "\n",
       "  reviews_per_month  \n",
       "0              4.07  \n",
       "1              1.48  \n",
       "\n",
       "[2 rows x 92 columns]"
      ]
     },
     "execution_count": 5,
     "metadata": {},
     "output_type": "execute_result"
    }
   ],
   "source": [
    "#for listings\n",
    "listings.head(2)"
   ]
  },
  {
   "cell_type": "code",
   "execution_count": 6,
   "id": "d5ace599",
   "metadata": {},
   "outputs": [
    {
     "name": "stdout",
     "output_type": "stream",
     "text": [
      "<class 'pandas.core.frame.DataFrame'>\n",
      "RangeIndex: 3818 entries, 0 to 3817\n",
      "Data columns (total 92 columns):\n",
      " #   Column                            Non-Null Count  Dtype  \n",
      "---  ------                            --------------  -----  \n",
      " 0   id                                3818 non-null   int64  \n",
      " 1   listing_url                       3818 non-null   object \n",
      " 2   scrape_id                         3818 non-null   int64  \n",
      " 3   last_scraped                      3818 non-null   object \n",
      " 4   name                              3818 non-null   object \n",
      " 5   summary                           3641 non-null   object \n",
      " 6   space                             3249 non-null   object \n",
      " 7   description                       3818 non-null   object \n",
      " 8   experiences_offered               3818 non-null   object \n",
      " 9   neighborhood_overview             2786 non-null   object \n",
      " 10  notes                             2212 non-null   object \n",
      " 11  transit                           2884 non-null   object \n",
      " 12  thumbnail_url                     3498 non-null   object \n",
      " 13  medium_url                        3498 non-null   object \n",
      " 14  picture_url                       3818 non-null   object \n",
      " 15  xl_picture_url                    3498 non-null   object \n",
      " 16  host_id                           3818 non-null   int64  \n",
      " 17  host_url                          3818 non-null   object \n",
      " 18  host_name                         3816 non-null   object \n",
      " 19  host_since                        3816 non-null   object \n",
      " 20  host_location                     3810 non-null   object \n",
      " 21  host_about                        2959 non-null   object \n",
      " 22  host_response_time                3295 non-null   object \n",
      " 23  host_response_rate                3295 non-null   object \n",
      " 24  host_acceptance_rate              3045 non-null   object \n",
      " 25  host_is_superhost                 3816 non-null   object \n",
      " 26  host_thumbnail_url                3816 non-null   object \n",
      " 27  host_picture_url                  3816 non-null   object \n",
      " 28  host_neighbourhood                3518 non-null   object \n",
      " 29  host_listings_count               3816 non-null   float64\n",
      " 30  host_total_listings_count         3816 non-null   float64\n",
      " 31  host_verifications                3818 non-null   object \n",
      " 32  host_has_profile_pic              3816 non-null   object \n",
      " 33  host_identity_verified            3816 non-null   object \n",
      " 34  street                            3818 non-null   object \n",
      " 35  neighbourhood                     3402 non-null   object \n",
      " 36  neighbourhood_cleansed            3818 non-null   object \n",
      " 37  neighbourhood_group_cleansed      3818 non-null   object \n",
      " 38  city                              3818 non-null   object \n",
      " 39  state                             3818 non-null   object \n",
      " 40  zipcode                           3811 non-null   object \n",
      " 41  market                            3818 non-null   object \n",
      " 42  smart_location                    3818 non-null   object \n",
      " 43  country_code                      3818 non-null   object \n",
      " 44  country                           3818 non-null   object \n",
      " 45  latitude                          3818 non-null   float64\n",
      " 46  longitude                         3818 non-null   float64\n",
      " 47  is_location_exact                 3818 non-null   object \n",
      " 48  property_type                     3817 non-null   object \n",
      " 49  room_type                         3818 non-null   object \n",
      " 50  accommodates                      3818 non-null   int64  \n",
      " 51  bathrooms                         3802 non-null   float64\n",
      " 52  bedrooms                          3812 non-null   float64\n",
      " 53  beds                              3817 non-null   float64\n",
      " 54  bed_type                          3818 non-null   object \n",
      " 55  amenities                         3818 non-null   object \n",
      " 56  square_feet                       97 non-null     float64\n",
      " 57  price                             3818 non-null   object \n",
      " 58  weekly_price                      2009 non-null   object \n",
      " 59  monthly_price                     1517 non-null   object \n",
      " 60  security_deposit                  1866 non-null   object \n",
      " 61  cleaning_fee                      2788 non-null   object \n",
      " 62  guests_included                   3818 non-null   int64  \n",
      " 63  extra_people                      3818 non-null   object \n",
      " 64  minimum_nights                    3818 non-null   int64  \n",
      " 65  maximum_nights                    3818 non-null   int64  \n",
      " 66  calendar_updated                  3818 non-null   object \n",
      " 67  has_availability                  3818 non-null   object \n",
      " 68  availability_30                   3818 non-null   int64  \n",
      " 69  availability_60                   3818 non-null   int64  \n",
      " 70  availability_90                   3818 non-null   int64  \n",
      " 71  availability_365                  3818 non-null   int64  \n",
      " 72  calendar_last_scraped             3818 non-null   object \n",
      " 73  number_of_reviews                 3818 non-null   int64  \n",
      " 74  first_review                      3191 non-null   object \n",
      " 75  last_review                       3191 non-null   object \n",
      " 76  review_scores_rating              3171 non-null   float64\n",
      " 77  review_scores_accuracy            3160 non-null   float64\n",
      " 78  review_scores_cleanliness         3165 non-null   float64\n",
      " 79  review_scores_checkin             3160 non-null   float64\n",
      " 80  review_scores_communication       3167 non-null   float64\n",
      " 81  review_scores_location            3163 non-null   float64\n",
      " 82  review_scores_value               3162 non-null   float64\n",
      " 83  requires_license                  3818 non-null   object \n",
      " 84  license                           0 non-null      float64\n",
      " 85  jurisdiction_names                3818 non-null   object \n",
      " 86  instant_bookable                  3818 non-null   object \n",
      " 87  cancellation_policy               3818 non-null   object \n",
      " 88  require_guest_profile_picture     3818 non-null   object \n",
      " 89  require_guest_phone_verification  3818 non-null   object \n",
      " 90  calculated_host_listings_count    3818 non-null   int64  \n",
      " 91  reviews_per_month                 3191 non-null   float64\n",
      "dtypes: float64(17), int64(13), object(62)\n",
      "memory usage: 2.7+ MB\n"
     ]
    }
   ],
   "source": [
    "listings.info()"
   ]
  },
  {
   "cell_type": "code",
   "execution_count": 7,
   "id": "cb0f3c0c",
   "metadata": {},
   "outputs": [
    {
     "data": {
      "text/html": [
       "<div>\n",
       "<style scoped>\n",
       "    .dataframe tbody tr th:only-of-type {\n",
       "        vertical-align: middle;\n",
       "    }\n",
       "\n",
       "    .dataframe tbody tr th {\n",
       "        vertical-align: top;\n",
       "    }\n",
       "\n",
       "    .dataframe thead th {\n",
       "        text-align: right;\n",
       "    }\n",
       "</style>\n",
       "<table border=\"1\" class=\"dataframe\">\n",
       "  <thead>\n",
       "    <tr style=\"text-align: right;\">\n",
       "      <th></th>\n",
       "      <th>listing_id</th>\n",
       "      <th>id</th>\n",
       "      <th>date</th>\n",
       "      <th>reviewer_id</th>\n",
       "      <th>reviewer_name</th>\n",
       "      <th>comments</th>\n",
       "    </tr>\n",
       "  </thead>\n",
       "  <tbody>\n",
       "    <tr>\n",
       "      <th>0</th>\n",
       "      <td>7202016</td>\n",
       "      <td>38917982</td>\n",
       "      <td>2015-07-19</td>\n",
       "      <td>28943674</td>\n",
       "      <td>Bianca</td>\n",
       "      <td>Cute and cozy place. Perfect location to every...</td>\n",
       "    </tr>\n",
       "    <tr>\n",
       "      <th>1</th>\n",
       "      <td>7202016</td>\n",
       "      <td>39087409</td>\n",
       "      <td>2015-07-20</td>\n",
       "      <td>32440555</td>\n",
       "      <td>Frank</td>\n",
       "      <td>Kelly has a great room in a very central locat...</td>\n",
       "    </tr>\n",
       "  </tbody>\n",
       "</table>\n",
       "</div>"
      ],
      "text/plain": [
       "   listing_id        id        date  reviewer_id reviewer_name  \\\n",
       "0     7202016  38917982  2015-07-19     28943674        Bianca   \n",
       "1     7202016  39087409  2015-07-20     32440555         Frank   \n",
       "\n",
       "                                            comments  \n",
       "0  Cute and cozy place. Perfect location to every...  \n",
       "1  Kelly has a great room in a very central locat...  "
      ]
     },
     "execution_count": 7,
     "metadata": {},
     "output_type": "execute_result"
    }
   ],
   "source": [
    "#for reviews\n",
    "reviews.head(2)"
   ]
  },
  {
   "cell_type": "code",
   "execution_count": 8,
   "id": "c6696db7",
   "metadata": {},
   "outputs": [
    {
     "name": "stdout",
     "output_type": "stream",
     "text": [
      "<class 'pandas.core.frame.DataFrame'>\n",
      "RangeIndex: 84849 entries, 0 to 84848\n",
      "Data columns (total 6 columns):\n",
      " #   Column         Non-Null Count  Dtype \n",
      "---  ------         --------------  ----- \n",
      " 0   listing_id     84849 non-null  int64 \n",
      " 1   id             84849 non-null  int64 \n",
      " 2   date           84849 non-null  object\n",
      " 3   reviewer_id    84849 non-null  int64 \n",
      " 4   reviewer_name  84849 non-null  object\n",
      " 5   comments       84831 non-null  object\n",
      "dtypes: int64(3), object(3)\n",
      "memory usage: 3.9+ MB\n"
     ]
    }
   ],
   "source": [
    "reviews.info()"
   ]
  },
  {
   "cell_type": "markdown",
   "id": "8db60163",
   "metadata": {},
   "source": [
    "## Missing Values Check"
   ]
  },
  {
   "cell_type": "markdown",
   "id": "ddc2099a",
   "metadata": {},
   "source": [
    "### For Calendar"
   ]
  },
  {
   "cell_type": "code",
   "execution_count": 9,
   "id": "18e41c3a",
   "metadata": {},
   "outputs": [
    {
     "data": {
      "text/plain": [
       "listing_id     0.000000\n",
       "date           0.000000\n",
       "available      0.000000\n",
       "price         32.938998\n",
       "dtype: float64"
      ]
     },
     "execution_count": 9,
     "metadata": {},
     "output_type": "execute_result"
    }
   ],
   "source": [
    "#% of missing valus for a column\n",
    "(calendar.isnull().sum()/calendar.shape[0])*100"
   ]
  },
  {
   "cell_type": "code",
   "execution_count": 10,
   "id": "ff8c7e29",
   "metadata": {},
   "outputs": [
    {
     "data": {
      "text/plain": [
       "count      934542\n",
       "unique        669\n",
       "top       $150.00\n",
       "freq        36646\n",
       "Name: price, dtype: object"
      ]
     },
     "execution_count": 10,
     "metadata": {},
     "output_type": "execute_result"
    }
   ],
   "source": [
    "calendar['price'].describe()"
   ]
  },
  {
   "cell_type": "code",
   "execution_count": 11,
   "id": "fe1deadd",
   "metadata": {},
   "outputs": [],
   "source": [
    "#price column is object, so let's convert it into float\n",
    "#Firstly, missing values are imputed with '$0' constant\n",
    "calendar['price'] = calendar['price'].fillna('$0')"
   ]
  },
  {
   "cell_type": "code",
   "execution_count": 12,
   "id": "94346361",
   "metadata": {},
   "outputs": [],
   "source": [
    "#lets make it float\n",
    "#remove $ sign\n",
    "cal_float = lambda x:(x.lstrip('$'))\n",
    "calendar['price'] = calendar['price'].apply(cal_float)\n",
    "#replaced , from numbers e.g. 1,234 = 1234\n",
    "cal_rep = lambda x:x.replace(',','')\n",
    "calendar['price'] = calendar['price'].apply(cal_rep)\n",
    "#converted the datatype to float\n",
    "calendar['price'] = calendar['price'].astype('float')\n",
    "\n"
   ]
  },
  {
   "cell_type": "code",
   "execution_count": 13,
   "id": "87080d92",
   "metadata": {},
   "outputs": [
    {
     "data": {
      "text/plain": [
       "count    1.393570e+06\n",
       "mean     9.250720e+01\n",
       "std      1.077295e+02\n",
       "min      0.000000e+00\n",
       "25%      0.000000e+00\n",
       "50%      7.500000e+01\n",
       "75%      1.300000e+02\n",
       "max      1.650000e+03\n",
       "Name: price, dtype: float64"
      ]
     },
     "execution_count": 13,
     "metadata": {},
     "output_type": "execute_result"
    }
   ],
   "source": [
    "calendar['price'].describe()"
   ]
  },
  {
   "cell_type": "markdown",
   "id": "5fbe1448",
   "metadata": {},
   "source": [
    "### Visual Representation for Calendar"
   ]
  },
  {
   "cell_type": "code",
   "execution_count": 14,
   "id": "e9940e9d",
   "metadata": {},
   "outputs": [
    {
     "data": {
      "text/plain": [
       "<AxesSubplot:xlabel='price'>"
      ]
     },
     "execution_count": 14,
     "metadata": {},
     "output_type": "execute_result"
    },
    {
     "data": {
      "image/png": "[encoded data removed]",
      "text/plain": [
       "<Figure size 432x288 with 1 Axes>"
      ]
     },
     "metadata": {
      "needs_background": "light"
     },
     "output_type": "display_data"
    }
   ],
   "source": [
    "sns.boxplot(data=calendar,x='price')"
   ]
  },
  {
   "cell_type": "code",
   "execution_count": 15,
   "id": "5530e242",
   "metadata": {},
   "outputs": [
    {
     "data": {
      "text/plain": [
       "<AxesSubplot:>"
      ]
     },
     "execution_count": 15,
     "metadata": {},
     "output_type": "execute_result"
    },
    {
     "data": {
      "image/png": "[encoded data removed]",
      "text/plain": [
       "<Figure size 432x288 with 1 Axes>"
      ]
     },
     "metadata": {
      "needs_background": "light"
     },
     "output_type": "display_data"
    }
   ],
   "source": [
    "calendar['price'].hist()"
   ]
  },
  {
   "cell_type": "markdown",
   "id": "a3a7b204",
   "metadata": {},
   "source": [
    "### For Listings"
   ]
  },
  {
   "cell_type": "code",
   "execution_count": 16,
   "id": "ca05106f",
   "metadata": {},
   "outputs": [
    {
     "name": "stdout",
     "output_type": "stream",
     "text": [
      "license                        100.000000\n",
      "square_feet                     97.459403\n",
      "monthly_price                   60.267156\n",
      "security_deposit                51.126244\n",
      "weekly_price                    47.380828\n",
      "notes                           42.063908\n",
      "neighborhood_overview           27.029859\n",
      "cleaning_fee                    26.977475\n",
      "transit                         24.463070\n",
      "host_about                      22.498690\n",
      "host_acceptance_rate            20.246202\n",
      "review_scores_accuracy          17.234154\n",
      "review_scores_checkin           17.234154\n",
      "review_scores_value             17.181771\n",
      "review_scores_location          17.155579\n",
      "review_scores_cleanliness       17.103195\n",
      "review_scores_communication     17.050812\n",
      "review_scores_rating            16.946045\n",
      "last_review                     16.422211\n",
      "first_review                    16.422211\n",
      "reviews_per_month               16.422211\n",
      "space                           14.903091\n",
      "host_response_rate              13.698271\n",
      "host_response_time              13.698271\n",
      "neighbourhood                   10.895757\n",
      "thumbnail_url                    8.381351\n",
      "medium_url                       8.381351\n",
      "xl_picture_url                   8.381351\n",
      "host_neighbourhood               7.857517\n",
      "summary                          4.635935\n",
      "bathrooms                        0.419068\n",
      "host_location                    0.209534\n",
      "zipcode                          0.183342\n",
      "bedrooms                         0.157150\n",
      "host_name                        0.052383\n",
      "dtype: float64\n"
     ]
    }
   ],
   "source": [
    "#Checking null values\n",
    "a = ((listings.isnull().sum()/listings.shape[0])*100).sort_values(ascending=False)\n",
    "total_list = a[0:35]#prints 35 column variables with missing values in ascending order\n",
    "print(total_list)"
   ]
  },
  {
   "cell_type": "markdown",
   "id": "3080e95d",
   "metadata": {},
   "source": [
    "### Dropping columns with 0 fill rates"
   ]
  },
  {
   "cell_type": "code",
   "execution_count": 17,
   "id": "6f0619b1",
   "metadata": {},
   "outputs": [],
   "source": [
    "#Dropping columns with 0 fill rates\n",
    "listings = listings.dropna(how='all',axis=1)"
   ]
  },
  {
   "cell_type": "code",
   "execution_count": 18,
   "id": "fbf27552",
   "metadata": {},
   "outputs": [],
   "source": [
    "#segregating listings dataframe to get numeric and string columns separately.\n",
    "objects = listings.select_dtypes(include=['object'])\n",
    "numeric = listings.select_dtypes(exclude=['object'])"
   ]
  },
  {
   "cell_type": "code",
   "execution_count": 19,
   "id": "b24c6c56",
   "metadata": {},
   "outputs": [
    {
     "data": {
      "text/plain": [
       "id                                   0\n",
       "number_of_reviews                    0\n",
       "availability_365                     0\n",
       "availability_90                      0\n",
       "availability_60                      0\n",
       "availability_30                      0\n",
       "calculated_host_listings_count       0\n",
       "minimum_nights                       0\n",
       "guests_included                      0\n",
       "maximum_nights                       0\n",
       "scrape_id                            0\n",
       "host_id                              0\n",
       "latitude                             0\n",
       "accommodates                         0\n",
       "longitude                            0\n",
       "beds                                 1\n",
       "host_total_listings_count            2\n",
       "host_listings_count                  2\n",
       "bedrooms                             6\n",
       "bathrooms                           16\n",
       "reviews_per_month                  627\n",
       "review_scores_rating               647\n",
       "review_scores_communication        651\n",
       "review_scores_cleanliness          653\n",
       "review_scores_location             655\n",
       "review_scores_value                656\n",
       "review_scores_accuracy             658\n",
       "review_scores_checkin              658\n",
       "square_feet                       3721\n",
       "dtype: int64"
      ]
     },
     "execution_count": 19,
     "metadata": {},
     "output_type": "execute_result"
    }
   ],
   "source": [
    "#checking null values for numeric columns\n",
    "numeric.isnull().sum().sort_values()"
   ]
  },
  {
   "cell_type": "markdown",
   "id": "36776afe",
   "metadata": {},
   "source": [
    "### Exploratory Numeric Data Analysis for Listings"
   ]
  },
  {
   "cell_type": "code",
   "execution_count": 20,
   "id": "56f473ab",
   "metadata": {
    "scrolled": true
   },
   "outputs": [
    {
     "data": {
      "text/plain": [
       "array([[<AxesSubplot:title={'center':'reviews_per_month'}>,\n",
       "        <AxesSubplot:title={'center':'review_scores_rating'}>,\n",
       "        <AxesSubplot:title={'center':'review_scores_communication'}>],\n",
       "       [<AxesSubplot:title={'center':'review_scores_cleanliness'}>,\n",
       "        <AxesSubplot:title={'center':'review_scores_location'}>,\n",
       "        <AxesSubplot:title={'center':'review_scores_value'}>],\n",
       "       [<AxesSubplot:title={'center':'review_scores_accuracy'}>,\n",
       "        <AxesSubplot:title={'center':'review_scores_checkin'}>,\n",
       "        <AxesSubplot:title={'center':'bathrooms'}>]], dtype=object)"
      ]
     },
     "execution_count": 20,
     "metadata": {},
     "output_type": "execute_result"
    },
    {
     "data": {
      "text/plain": [
       "<Figure size 576x576 with 0 Axes>"
      ]
     },
     "metadata": {},
     "output_type": "display_data"
    },
    {
     "data": {
      "image/png": "[encoded data removed]",
      "text/plain": [
       "<Figure size 1440x1080 with 9 Axes>"
      ]
     },
     "metadata": {
      "needs_background": "light"
     },
     "output_type": "display_data"
    }
   ],
   "source": [
    "plt.figure(figsize=(8,8),facecolor='red',edgecolor='blue')\n",
    "listings[['reviews_per_month','review_scores_rating','review_scores_communication','review_scores_cleanliness','review_scores_location','review_scores_value','review_scores_accuracy','review_scores_checkin','bathrooms']].hist(figsize=(20,15))"
   ]
  },
  {
   "cell_type": "markdown",
   "id": "f5a13955",
   "metadata": {},
   "source": [
    "<b>Since every distribution is skewed either towards right or left we can conclude to impute these missing values with the median value.<br>\n",
    "Also review scores are left skewed and hence interprets the reviews rating as satisfactory.<b>"
   ]
  },
  {
   "cell_type": "code",
   "execution_count": 21,
   "id": "b6f7a83b",
   "metadata": {
    "scrolled": true
   },
   "outputs": [],
   "source": [
    "#storing all numeric columns in num\n",
    "num = numeric.columns"
   ]
  },
  {
   "cell_type": "code",
   "execution_count": 22,
   "id": "af8c633a",
   "metadata": {},
   "outputs": [],
   "source": [
    "#filling missing values with median for numeric category\n",
    "lis_imput = lambda x:x.fillna(x.median())\n",
    "listings[num] = listings[num].apply(lis_imput)"
   ]
  },
  {
   "cell_type": "code",
   "execution_count": 23,
   "id": "7d3ccc93",
   "metadata": {},
   "outputs": [],
   "source": [
    "#making a new column with number of amenities given from amenities column\n",
    "am=[]\n",
    "\n",
    "for i in listings['amenities']:\n",
    "    #print(i,len(i.split(',')))\n",
    "    am.append(len(i.split(',')))\n",
    "listings['number_of_amenities']=am\n",
    "   "
   ]
  },
  {
   "cell_type": "code",
   "execution_count": 24,
   "id": "d4d596fa",
   "metadata": {
    "scrolled": true
   },
   "outputs": [],
   "source": [
    "#storing all object columns in obj\n",
    "obj = objects.columns"
   ]
  },
  {
   "cell_type": "code",
   "execution_count": 25,
   "id": "afe51cb5",
   "metadata": {},
   "outputs": [
    {
     "data": {
      "text/plain": [
       "['monthly_price',\n",
       " 'security_deposit',\n",
       " 'weekly_price',\n",
       " 'notes',\n",
       " 'neighborhood_overview',\n",
       " 'cleaning_fee',\n",
       " 'transit',\n",
       " 'host_about',\n",
       " 'host_acceptance_rate',\n",
       " 'last_review',\n",
       " 'first_review',\n",
       " 'space',\n",
       " 'host_response_rate',\n",
       " 'host_response_time',\n",
       " 'neighbourhood',\n",
       " 'thumbnail_url',\n",
       " 'medium_url',\n",
       " 'xl_picture_url',\n",
       " 'host_neighbourhood',\n",
       " 'summary',\n",
       " 'host_location',\n",
       " 'zipcode',\n",
       " 'host_name']"
      ]
     },
     "execution_count": 25,
     "metadata": {},
     "output_type": "execute_result"
    }
   ],
   "source": [
    "#making a list of all object column variables with missing values\n",
    "list1=[]\n",
    "for i in total_list.index:\n",
    "    if i in obj:\n",
    "        list1.append(i)\n",
    "list1"
   ]
  },
  {
   "cell_type": "markdown",
   "id": "06f5ab21",
   "metadata": {},
   "source": [
    "### Treating Price column datatype"
   ]
  },
  {
   "cell_type": "code",
   "execution_count": 26,
   "id": "56bd7136",
   "metadata": {},
   "outputs": [
    {
     "data": {
      "text/plain": [
       "['price', 'monthly_price', 'security_deposit', 'weekly_price', 'cleaning_fee']"
      ]
     },
     "execution_count": 26,
     "metadata": {},
     "output_type": "execute_result"
    }
   ],
   "source": [
    "#all the price related column variables are object in datatype\n",
    "price = ['price','monthly_price',\n",
    " 'security_deposit',\n",
    " 'weekly_price','cleaning_fee']\n",
    "price"
   ]
  },
  {
   "cell_type": "code",
   "execution_count": 27,
   "id": "8c8e4880",
   "metadata": {},
   "outputs": [
    {
     "data": {
      "text/html": [
       "<div>\n",
       "<style scoped>\n",
       "    .dataframe tbody tr th:only-of-type {\n",
       "        vertical-align: middle;\n",
       "    }\n",
       "\n",
       "    .dataframe tbody tr th {\n",
       "        vertical-align: top;\n",
       "    }\n",
       "\n",
       "    .dataframe thead th {\n",
       "        text-align: right;\n",
       "    }\n",
       "</style>\n",
       "<table border=\"1\" class=\"dataframe\">\n",
       "  <thead>\n",
       "    <tr style=\"text-align: right;\">\n",
       "      <th></th>\n",
       "      <th>price</th>\n",
       "      <th>monthly_price</th>\n",
       "      <th>security_deposit</th>\n",
       "      <th>weekly_price</th>\n",
       "      <th>cleaning_fee</th>\n",
       "    </tr>\n",
       "  </thead>\n",
       "  <tbody>\n",
       "    <tr>\n",
       "      <th>0</th>\n",
       "      <td>$85.00</td>\n",
       "      <td>$0</td>\n",
       "      <td>$0</td>\n",
       "      <td>$0</td>\n",
       "      <td>$0</td>\n",
       "    </tr>\n",
       "    <tr>\n",
       "      <th>1</th>\n",
       "      <td>$150.00</td>\n",
       "      <td>$3,000.00</td>\n",
       "      <td>$100.00</td>\n",
       "      <td>$1,000.00</td>\n",
       "      <td>$40.00</td>\n",
       "    </tr>\n",
       "    <tr>\n",
       "      <th>2</th>\n",
       "      <td>$975.00</td>\n",
       "      <td>$0</td>\n",
       "      <td>$1,000.00</td>\n",
       "      <td>$0</td>\n",
       "      <td>$300.00</td>\n",
       "    </tr>\n",
       "    <tr>\n",
       "      <th>3</th>\n",
       "      <td>$100.00</td>\n",
       "      <td>$2,300.00</td>\n",
       "      <td>$0</td>\n",
       "      <td>$650.00</td>\n",
       "      <td>$0</td>\n",
       "    </tr>\n",
       "    <tr>\n",
       "      <th>4</th>\n",
       "      <td>$450.00</td>\n",
       "      <td>$0</td>\n",
       "      <td>$700.00</td>\n",
       "      <td>$0</td>\n",
       "      <td>$125.00</td>\n",
       "    </tr>\n",
       "    <tr>\n",
       "      <th>...</th>\n",
       "      <td>...</td>\n",
       "      <td>...</td>\n",
       "      <td>...</td>\n",
       "      <td>...</td>\n",
       "      <td>...</td>\n",
       "    </tr>\n",
       "    <tr>\n",
       "      <th>3813</th>\n",
       "      <td>$359.00</td>\n",
       "      <td>$0</td>\n",
       "      <td>$0</td>\n",
       "      <td>$0</td>\n",
       "      <td>$230.00</td>\n",
       "    </tr>\n",
       "    <tr>\n",
       "      <th>3814</th>\n",
       "      <td>$79.00</td>\n",
       "      <td>$0</td>\n",
       "      <td>$500.00</td>\n",
       "      <td>$0</td>\n",
       "      <td>$50.00</td>\n",
       "    </tr>\n",
       "    <tr>\n",
       "      <th>3815</th>\n",
       "      <td>$93.00</td>\n",
       "      <td>$0</td>\n",
       "      <td>$250.00</td>\n",
       "      <td>$450.00</td>\n",
       "      <td>$35.00</td>\n",
       "    </tr>\n",
       "    <tr>\n",
       "      <th>3816</th>\n",
       "      <td>$99.00</td>\n",
       "      <td>$0</td>\n",
       "      <td>$300.00</td>\n",
       "      <td>$0</td>\n",
       "      <td>$45.00</td>\n",
       "    </tr>\n",
       "    <tr>\n",
       "      <th>3817</th>\n",
       "      <td>$87.00</td>\n",
       "      <td>$0</td>\n",
       "      <td>$0</td>\n",
       "      <td>$0</td>\n",
       "      <td>$0</td>\n",
       "    </tr>\n",
       "  </tbody>\n",
       "</table>\n",
       "<p>3818 rows × 5 columns</p>\n",
       "</div>"
      ],
      "text/plain": [
       "        price monthly_price security_deposit weekly_price cleaning_fee\n",
       "0      $85.00            $0               $0           $0           $0\n",
       "1     $150.00     $3,000.00          $100.00    $1,000.00       $40.00\n",
       "2     $975.00            $0        $1,000.00           $0      $300.00\n",
       "3     $100.00     $2,300.00               $0      $650.00           $0\n",
       "4     $450.00            $0          $700.00           $0      $125.00\n",
       "...       ...           ...              ...          ...          ...\n",
       "3813  $359.00            $0               $0           $0      $230.00\n",
       "3814   $79.00            $0          $500.00           $0       $50.00\n",
       "3815   $93.00            $0          $250.00      $450.00       $35.00\n",
       "3816   $99.00            $0          $300.00           $0       $45.00\n",
       "3817   $87.00            $0               $0           $0           $0\n",
       "\n",
       "[3818 rows x 5 columns]"
      ]
     },
     "execution_count": 27,
     "metadata": {},
     "output_type": "execute_result"
    }
   ],
   "source": [
    "# Changing all the columns in price list from object to float datatype\n",
    "#initially fill nan values with $0\n",
    "listings[price] = listings[price].fillna('$0')\n",
    "listings[price]"
   ]
  },
  {
   "cell_type": "code",
   "execution_count": 28,
   "id": "cbfc0f7e",
   "metadata": {
    "scrolled": true
   },
   "outputs": [],
   "source": [
    "#lets make it float\n",
    "#remove $ sign\n",
    "lis_dollar = lambda x:x.lstrip('$')\n",
    "#replaced , from numbers e.g. 1,234 = 1234\n",
    "lis_rep = lambda x:x.replace(',','')\n",
    "\n",
    "listings['price']= listings['price'].apply(lis_dollar)\n",
    "listings['monthly_price']= listings['monthly_price'].apply(lis_dollar)\n",
    "listings['weekly_price']= listings['weekly_price'].apply(lis_dollar)\n",
    "listings['security_deposit']= listings['security_deposit'].apply(lis_dollar)\n",
    "listings['cleaning_fee']= listings['cleaning_fee'].apply(lis_dollar)\n",
    "\n",
    "listings['price']= listings['price'].apply(lis_rep)\n",
    "listings['monthly_price']= listings['monthly_price'].apply(lis_rep)\n",
    "listings['weekly_price']= listings['weekly_price'].apply(lis_rep)\n",
    "listings['security_deposit']= listings['security_deposit'].apply(lis_rep)\n",
    "listings['cleaning_fee']= listings['cleaning_fee'].apply(lis_rep)\n",
    "\n",
    "#converting the datatype to float\n",
    "\n",
    "listings['price']= listings['price'].astype('float')\n",
    "listings['monthly_price']= listings['monthly_price'].astype('float')\n",
    "listings['weekly_price']= listings['weekly_price'].astype('float')\n",
    "listings['security_deposit']= listings['security_deposit'].astype('float')\n",
    "listings['cleaning_fee']= listings['cleaning_fee'].astype('float')"
   ]
  },
  {
   "cell_type": "code",
   "execution_count": 29,
   "id": "86843815",
   "metadata": {},
   "outputs": [
    {
     "data": {
      "text/html": [
       "<div>\n",
       "<style scoped>\n",
       "    .dataframe tbody tr th:only-of-type {\n",
       "        vertical-align: middle;\n",
       "    }\n",
       "\n",
       "    .dataframe tbody tr th {\n",
       "        vertical-align: top;\n",
       "    }\n",
       "\n",
       "    .dataframe thead th {\n",
       "        text-align: right;\n",
       "    }\n",
       "</style>\n",
       "<table border=\"1\" class=\"dataframe\">\n",
       "  <thead>\n",
       "    <tr style=\"text-align: right;\">\n",
       "      <th></th>\n",
       "      <th>price</th>\n",
       "      <th>monthly_price</th>\n",
       "      <th>security_deposit</th>\n",
       "      <th>weekly_price</th>\n",
       "      <th>cleaning_fee</th>\n",
       "    </tr>\n",
       "  </thead>\n",
       "  <tbody>\n",
       "    <tr>\n",
       "      <th>count</th>\n",
       "      <td>3818.000000</td>\n",
       "      <td>3818.000000</td>\n",
       "      <td>3818.000000</td>\n",
       "      <td>3818.000000</td>\n",
       "      <td>3818.000000</td>\n",
       "    </tr>\n",
       "    <tr>\n",
       "      <th>mean</th>\n",
       "      <td>127.976166</td>\n",
       "      <td>1038.352803</td>\n",
       "      <td>140.566003</td>\n",
       "      <td>414.892614</td>\n",
       "      <td>45.062860</td>\n",
       "    </tr>\n",
       "    <tr>\n",
       "      <th>std</th>\n",
       "      <td>90.250022</td>\n",
       "      <td>1677.470398</td>\n",
       "      <td>237.387534</td>\n",
       "      <td>551.477118</td>\n",
       "      <td>49.913798</td>\n",
       "    </tr>\n",
       "    <tr>\n",
       "      <th>min</th>\n",
       "      <td>20.000000</td>\n",
       "      <td>0.000000</td>\n",
       "      <td>0.000000</td>\n",
       "      <td>0.000000</td>\n",
       "      <td>0.000000</td>\n",
       "    </tr>\n",
       "    <tr>\n",
       "      <th>25%</th>\n",
       "      <td>75.000000</td>\n",
       "      <td>0.000000</td>\n",
       "      <td>0.000000</td>\n",
       "      <td>0.000000</td>\n",
       "      <td>0.000000</td>\n",
       "    </tr>\n",
       "    <tr>\n",
       "      <th>50%</th>\n",
       "      <td>100.000000</td>\n",
       "      <td>0.000000</td>\n",
       "      <td>0.000000</td>\n",
       "      <td>262.000000</td>\n",
       "      <td>30.000000</td>\n",
       "    </tr>\n",
       "    <tr>\n",
       "      <th>75%</th>\n",
       "      <td>150.000000</td>\n",
       "      <td>1890.000000</td>\n",
       "      <td>200.000000</td>\n",
       "      <td>671.500000</td>\n",
       "      <td>65.000000</td>\n",
       "    </tr>\n",
       "    <tr>\n",
       "      <th>max</th>\n",
       "      <td>1000.000000</td>\n",
       "      <td>19500.000000</td>\n",
       "      <td>5000.000000</td>\n",
       "      <td>6300.000000</td>\n",
       "      <td>300.000000</td>\n",
       "    </tr>\n",
       "  </tbody>\n",
       "</table>\n",
       "</div>"
      ],
      "text/plain": [
       "             price  monthly_price  security_deposit  weekly_price  \\\n",
       "count  3818.000000    3818.000000       3818.000000   3818.000000   \n",
       "mean    127.976166    1038.352803        140.566003    414.892614   \n",
       "std      90.250022    1677.470398        237.387534    551.477118   \n",
       "min      20.000000       0.000000          0.000000      0.000000   \n",
       "25%      75.000000       0.000000          0.000000      0.000000   \n",
       "50%     100.000000       0.000000          0.000000    262.000000   \n",
       "75%     150.000000    1890.000000        200.000000    671.500000   \n",
       "max    1000.000000   19500.000000       5000.000000   6300.000000   \n",
       "\n",
       "       cleaning_fee  \n",
       "count   3818.000000  \n",
       "mean      45.062860  \n",
       "std       49.913798  \n",
       "min        0.000000  \n",
       "25%        0.000000  \n",
       "50%       30.000000  \n",
       "75%       65.000000  \n",
       "max      300.000000  "
      ]
     },
     "execution_count": 29,
     "metadata": {},
     "output_type": "execute_result"
    }
   ],
   "source": [
    "listings[price].describe()"
   ]
  },
  {
   "cell_type": "code",
   "execution_count": 30,
   "id": "db3bbabf",
   "metadata": {},
   "outputs": [],
   "source": [
    "#Replacing 0s with median\n",
    "lis_imput = lambda x:x.replace(0,x.median())\n",
    "listings[price] = listings[price].apply(lis_imput)"
   ]
  },
  {
   "cell_type": "code",
   "execution_count": 31,
   "id": "da440357",
   "metadata": {},
   "outputs": [],
   "source": [
    "#Replacing 0s with mean\n",
    "lis_imput = lambda x:x.replace(0,x.mean())\n",
    "listings[price] = listings[price].apply(lis_imput)"
   ]
  },
  {
   "cell_type": "code",
   "execution_count": 32,
   "id": "5ab5e01b",
   "metadata": {},
   "outputs": [
    {
     "data": {
      "text/html": [
       "<div>\n",
       "<style scoped>\n",
       "    .dataframe tbody tr th:only-of-type {\n",
       "        vertical-align: middle;\n",
       "    }\n",
       "\n",
       "    .dataframe tbody tr th {\n",
       "        vertical-align: top;\n",
       "    }\n",
       "\n",
       "    .dataframe thead th {\n",
       "        text-align: right;\n",
       "    }\n",
       "</style>\n",
       "<table border=\"1\" class=\"dataframe\">\n",
       "  <thead>\n",
       "    <tr style=\"text-align: right;\">\n",
       "      <th></th>\n",
       "      <th>price</th>\n",
       "      <th>monthly_price</th>\n",
       "      <th>security_deposit</th>\n",
       "      <th>weekly_price</th>\n",
       "      <th>cleaning_fee</th>\n",
       "    </tr>\n",
       "  </thead>\n",
       "  <tbody>\n",
       "    <tr>\n",
       "      <th>0</th>\n",
       "      <td>85.0</td>\n",
       "      <td>1038.352803</td>\n",
       "      <td>140.566003</td>\n",
       "      <td>262.0</td>\n",
       "      <td>30.0</td>\n",
       "    </tr>\n",
       "    <tr>\n",
       "      <th>1</th>\n",
       "      <td>150.0</td>\n",
       "      <td>3000.000000</td>\n",
       "      <td>100.000000</td>\n",
       "      <td>1000.0</td>\n",
       "      <td>40.0</td>\n",
       "    </tr>\n",
       "    <tr>\n",
       "      <th>2</th>\n",
       "      <td>975.0</td>\n",
       "      <td>1038.352803</td>\n",
       "      <td>1000.000000</td>\n",
       "      <td>262.0</td>\n",
       "      <td>300.0</td>\n",
       "    </tr>\n",
       "    <tr>\n",
       "      <th>3</th>\n",
       "      <td>100.0</td>\n",
       "      <td>2300.000000</td>\n",
       "      <td>140.566003</td>\n",
       "      <td>650.0</td>\n",
       "      <td>30.0</td>\n",
       "    </tr>\n",
       "    <tr>\n",
       "      <th>4</th>\n",
       "      <td>450.0</td>\n",
       "      <td>1038.352803</td>\n",
       "      <td>700.000000</td>\n",
       "      <td>262.0</td>\n",
       "      <td>125.0</td>\n",
       "    </tr>\n",
       "    <tr>\n",
       "      <th>...</th>\n",
       "      <td>...</td>\n",
       "      <td>...</td>\n",
       "      <td>...</td>\n",
       "      <td>...</td>\n",
       "      <td>...</td>\n",
       "    </tr>\n",
       "    <tr>\n",
       "      <th>3813</th>\n",
       "      <td>359.0</td>\n",
       "      <td>1038.352803</td>\n",
       "      <td>140.566003</td>\n",
       "      <td>262.0</td>\n",
       "      <td>230.0</td>\n",
       "    </tr>\n",
       "    <tr>\n",
       "      <th>3814</th>\n",
       "      <td>79.0</td>\n",
       "      <td>1038.352803</td>\n",
       "      <td>500.000000</td>\n",
       "      <td>262.0</td>\n",
       "      <td>50.0</td>\n",
       "    </tr>\n",
       "    <tr>\n",
       "      <th>3815</th>\n",
       "      <td>93.0</td>\n",
       "      <td>1038.352803</td>\n",
       "      <td>250.000000</td>\n",
       "      <td>450.0</td>\n",
       "      <td>35.0</td>\n",
       "    </tr>\n",
       "    <tr>\n",
       "      <th>3816</th>\n",
       "      <td>99.0</td>\n",
       "      <td>1038.352803</td>\n",
       "      <td>300.000000</td>\n",
       "      <td>262.0</td>\n",
       "      <td>45.0</td>\n",
       "    </tr>\n",
       "    <tr>\n",
       "      <th>3817</th>\n",
       "      <td>87.0</td>\n",
       "      <td>1038.352803</td>\n",
       "      <td>140.566003</td>\n",
       "      <td>262.0</td>\n",
       "      <td>30.0</td>\n",
       "    </tr>\n",
       "  </tbody>\n",
       "</table>\n",
       "<p>3818 rows × 5 columns</p>\n",
       "</div>"
      ],
      "text/plain": [
       "      price  monthly_price  security_deposit  weekly_price  cleaning_fee\n",
       "0      85.0    1038.352803        140.566003         262.0          30.0\n",
       "1     150.0    3000.000000        100.000000        1000.0          40.0\n",
       "2     975.0    1038.352803       1000.000000         262.0         300.0\n",
       "3     100.0    2300.000000        140.566003         650.0          30.0\n",
       "4     450.0    1038.352803        700.000000         262.0         125.0\n",
       "...     ...            ...               ...           ...           ...\n",
       "3813  359.0    1038.352803        140.566003         262.0         230.0\n",
       "3814   79.0    1038.352803        500.000000         262.0          50.0\n",
       "3815   93.0    1038.352803        250.000000         450.0          35.0\n",
       "3816   99.0    1038.352803        300.000000         262.0          45.0\n",
       "3817   87.0    1038.352803        140.566003         262.0          30.0\n",
       "\n",
       "[3818 rows x 5 columns]"
      ]
     },
     "execution_count": 32,
     "metadata": {},
     "output_type": "execute_result"
    }
   ],
   "source": [
    "listings[price]"
   ]
  },
  {
   "cell_type": "code",
   "execution_count": 33,
   "id": "db84567b",
   "metadata": {},
   "outputs": [],
   "source": [
    "#Treating missing values of text by imputing unknown\n",
    "listings[obj] = listings[obj].fillna('Unknown')"
   ]
  },
  {
   "cell_type": "code",
   "execution_count": 34,
   "id": "a23bf3bf",
   "metadata": {},
   "outputs": [
    {
     "data": {
      "text/plain": [
       "0"
      ]
     },
     "execution_count": 34,
     "metadata": {},
     "output_type": "execute_result"
    }
   ],
   "source": [
    "#checking for any null value in listings again!!\n",
    "np.sum(listings.isnull().sum())"
   ]
  },
  {
   "cell_type": "markdown",
   "id": "85f53ad9",
   "metadata": {},
   "source": [
    "### Reviews"
   ]
  },
  {
   "cell_type": "code",
   "execution_count": 35,
   "id": "3ae97eab",
   "metadata": {},
   "outputs": [
    {
     "data": {
      "text/plain": [
       "listing_id       0.000000\n",
       "id               0.000000\n",
       "date             0.000000\n",
       "reviewer_id      0.000000\n",
       "reviewer_name    0.000000\n",
       "comments         0.021214\n",
       "dtype: float64"
      ]
     },
     "execution_count": 35,
     "metadata": {},
     "output_type": "execute_result"
    }
   ],
   "source": [
    "#checking null values\n",
    "(reviews.isnull().sum()/reviews.shape[0])*100"
   ]
  },
  {
   "cell_type": "code",
   "execution_count": 36,
   "id": "3202fc0e",
   "metadata": {},
   "outputs": [],
   "source": [
    "#filling missing values with 'no comments'\n",
    "reviews['comments'] = reviews['comments'].fillna('no_comment')"
   ]
  },
  {
   "cell_type": "code",
   "execution_count": 37,
   "id": "6b0df8de",
   "metadata": {},
   "outputs": [
    {
     "data": {
      "text/plain": [
       "0    Cute and cozy place. Perfect location to every...\n",
       "1    Kelly has a great room in a very central locat...\n",
       "2    Very spacious apartment, and in a great neighb...\n",
       "3    Close to Seattle Center and all it has to offe...\n",
       "4    Kelly was a great host and very accommodating ...\n",
       "Name: comments, dtype: object"
      ]
     },
     "execution_count": 37,
     "metadata": {},
     "output_type": "execute_result"
    }
   ],
   "source": [
    "reviews['comments'].head()"
   ]
  },
  {
   "cell_type": "markdown",
   "id": "d7daa37f",
   "metadata": {},
   "source": [
    "### Further Exploring the Data for Unique values check"
   ]
  },
  {
   "cell_type": "code",
   "execution_count": 38,
   "id": "ccd7e656",
   "metadata": {},
   "outputs": [
    {
     "data": {
      "text/plain": [
       "scrape_id             1\n",
       "last_scraped          1\n",
       "city                  7\n",
       "state                 2\n",
       "smart_location        7\n",
       "country_code          1\n",
       "country               1\n",
       "jurisdiction_names    1\n",
       "dtype: int64"
      ]
     },
     "execution_count": 38,
     "metadata": {},
     "output_type": "execute_result"
    }
   ],
   "source": [
    "listings[['scrape_id', 'last_scraped','city', 'state','smart_location', 'country_code', 'country','jurisdiction_names']].nunique()"
   ]
  },
  {
   "cell_type": "code",
   "execution_count": 39,
   "id": "c0fd8168",
   "metadata": {},
   "outputs": [
    {
     "data": {
      "text/plain": [
       "city                   smart_location           \n",
       "Seattle                Seattle, WA                  3810\n",
       "Seattle                Seattle , WA                    2\n",
       "West Seattle           West Seattle, WA                2\n",
       "Ballard, Seattle       Ballard, Seattle, WA            1\n",
       "Phinney Ridge Seattle  Phinney Ridge Seattle, WA       1\n",
       "seattle                seattle, wa                     1\n",
       "西雅图                    西雅图, WA                         1\n",
       "dtype: int64"
      ]
     },
     "execution_count": 39,
     "metadata": {},
     "output_type": "execute_result"
    }
   ],
   "source": [
    "listings[['city','smart_location']].value_counts()"
   ]
  },
  {
   "cell_type": "code",
   "execution_count": 40,
   "id": "76ec00b8",
   "metadata": {},
   "outputs": [
    {
     "name": "stdout",
     "output_type": "stream",
     "text": [
      "<class 'pandas.core.frame.DataFrame'>\n",
      "RangeIndex: 3818 entries, 0 to 3817\n",
      "Data columns (total 79 columns):\n",
      " #   Column                            Non-Null Count  Dtype  \n",
      "---  ------                            --------------  -----  \n",
      " 0   id                                3818 non-null   int64  \n",
      " 1   listing_url                       3818 non-null   object \n",
      " 2   name                              3818 non-null   object \n",
      " 3   summary                           3818 non-null   object \n",
      " 4   space                             3818 non-null   object \n",
      " 5   description                       3818 non-null   object \n",
      " 6   experiences_offered               3818 non-null   object \n",
      " 7   neighborhood_overview             3818 non-null   object \n",
      " 8   notes                             3818 non-null   object \n",
      " 9   transit                           3818 non-null   object \n",
      " 10  thumbnail_url                     3818 non-null   object \n",
      " 11  medium_url                        3818 non-null   object \n",
      " 12  picture_url                       3818 non-null   object \n",
      " 13  xl_picture_url                    3818 non-null   object \n",
      " 14  host_id                           3818 non-null   int64  \n",
      " 15  host_url                          3818 non-null   object \n",
      " 16  host_name                         3818 non-null   object \n",
      " 17  host_location                     3818 non-null   object \n",
      " 18  host_about                        3818 non-null   object \n",
      " 19  host_response_time                3818 non-null   object \n",
      " 20  host_response_rate                3818 non-null   object \n",
      " 21  host_acceptance_rate              3818 non-null   object \n",
      " 22  host_is_superhost                 3818 non-null   object \n",
      " 23  host_thumbnail_url                3818 non-null   object \n",
      " 24  host_picture_url                  3818 non-null   object \n",
      " 25  host_neighbourhood                3818 non-null   object \n",
      " 26  host_listings_count               3818 non-null   float64\n",
      " 27  host_total_listings_count         3818 non-null   float64\n",
      " 28  host_verifications                3818 non-null   object \n",
      " 29  host_has_profile_pic              3818 non-null   object \n",
      " 30  host_identity_verified            3818 non-null   object \n",
      " 31  street                            3818 non-null   object \n",
      " 32  neighbourhood                     3818 non-null   object \n",
      " 33  neighbourhood_cleansed            3818 non-null   object \n",
      " 34  neighbourhood_group_cleansed      3818 non-null   object \n",
      " 35  zipcode                           3818 non-null   object \n",
      " 36  market                            3818 non-null   object \n",
      " 37  latitude                          3818 non-null   float64\n",
      " 38  longitude                         3818 non-null   float64\n",
      " 39  is_location_exact                 3818 non-null   object \n",
      " 40  property_type                     3818 non-null   object \n",
      " 41  room_type                         3818 non-null   object \n",
      " 42  accommodates                      3818 non-null   int64  \n",
      " 43  bathrooms                         3818 non-null   float64\n",
      " 44  bedrooms                          3818 non-null   float64\n",
      " 45  beds                              3818 non-null   float64\n",
      " 46  bed_type                          3818 non-null   object \n",
      " 47  amenities                         3818 non-null   object \n",
      " 48  square_feet                       3818 non-null   float64\n",
      " 49  price                             3818 non-null   float64\n",
      " 50  weekly_price                      3818 non-null   float64\n",
      " 51  monthly_price                     3818 non-null   float64\n",
      " 52  security_deposit                  3818 non-null   float64\n",
      " 53  cleaning_fee                      3818 non-null   float64\n",
      " 54  guests_included                   3818 non-null   int64  \n",
      " 55  extra_people                      3818 non-null   object \n",
      " 56  minimum_nights                    3818 non-null   int64  \n",
      " 57  maximum_nights                    3818 non-null   int64  \n",
      " 58  calendar_updated                  3818 non-null   object \n",
      " 59  has_availability                  3818 non-null   object \n",
      " 60  availability_30                   3818 non-null   int64  \n",
      " 61  availability_60                   3818 non-null   int64  \n",
      " 62  availability_90                   3818 non-null   int64  \n",
      " 63  availability_365                  3818 non-null   int64  \n",
      " 64  number_of_reviews                 3818 non-null   int64  \n",
      " 65  review_scores_rating              3818 non-null   float64\n",
      " 66  review_scores_accuracy            3818 non-null   float64\n",
      " 67  review_scores_cleanliness         3818 non-null   float64\n",
      " 68  review_scores_checkin             3818 non-null   float64\n",
      " 69  review_scores_communication       3818 non-null   float64\n",
      " 70  review_scores_location            3818 non-null   float64\n",
      " 71  review_scores_value               3818 non-null   float64\n",
      " 72  instant_bookable                  3818 non-null   object \n",
      " 73  cancellation_policy               3818 non-null   object \n",
      " 74  require_guest_profile_picture     3818 non-null   object \n",
      " 75  require_guest_phone_verification  3818 non-null   object \n",
      " 76  calculated_host_listings_count    3818 non-null   int64  \n",
      " 77  reviews_per_month                 3818 non-null   float64\n",
      " 78  number_of_amenities               3818 non-null   int64  \n",
      "dtypes: float64(21), int64(13), object(45)\n",
      "memory usage: 2.3+ MB\n"
     ]
    }
   ],
   "source": [
    "#remove these columns from the dataframe as these have only 1 or 2 unique entries\n",
    "remove = ['scrape_id', 'last_scraped','city', 'state','smart_location', 'country_code', 'country','jurisdiction_names','calendar_last_scraped','host_since','first_review','last_review','requires_license']\n",
    "listings.drop(columns=remove,inplace=True)\n",
    "listings.info()"
   ]
  },
  {
   "cell_type": "markdown",
   "id": "603fc142",
   "metadata": {},
   "source": [
    "# Visual Analysis"
   ]
  },
  {
   "cell_type": "markdown",
   "id": "0c48ee39",
   "metadata": {},
   "source": [
    "### Q1. What kind of properties are available in Seattle listings with a relatively high price and instant bookings."
   ]
  },
  {
   "cell_type": "code",
   "execution_count": 41,
   "id": "80f1d181",
   "metadata": {},
   "outputs": [
    {
     "data": {
      "image/png": "[encoded data removed]",
      "text/plain": [
       "<Figure size 1800x720 with 1 Axes>"
      ]
     },
     "metadata": {
      "needs_background": "light"
     },
     "output_type": "display_data"
    }
   ],
   "source": [
    "#Property type and price with instant bookings response\n",
    "fig, ax = plt.subplots(figsize=(25, 10))\n",
    "sns.barplot(data=listings,x='property_type',y='price',hue='instant_bookable',ax=ax)\n",
    "plt.show()"
   ]
  },
  {
   "cell_type": "markdown",
   "id": "c6c148e5",
   "metadata": {},
   "source": [
    "<b>Boat Property type, condominium, Loft are the top three property types with highest pricing range and that too with instant bookings available.<br>\n",
    "whereas Dorm, Treehouse,Yurt,Chalet and tent does not have the facility of instantly bookings.<b>"
   ]
  },
  {
   "cell_type": "markdown",
   "id": "7a79c2cf",
   "metadata": {},
   "source": [
    "### Q2. How does the host deals with cancellation policies from customers."
   ]
  },
  {
   "cell_type": "code",
   "execution_count": 42,
   "id": "dbc5a368",
   "metadata": {},
   "outputs": [
    {
     "data": {
      "image/png": "[encoded data removed]",
      "text/plain": [
       "<Figure size 1080x360 with 1 Axes>"
      ]
     },
     "metadata": {
      "needs_background": "light"
     },
     "output_type": "display_data"
    }
   ],
   "source": [
    "#price with cancellation policy and host_response time\n",
    "fig, ax = plt.subplots(figsize=(15, 5))\n",
    "sns.barplot(data=listings,x='cancellation_policy',y='price',hue='host_response_time',ax=ax)\n",
    "plt.show()"
   ]
  },
  {
   "cell_type": "markdown",
   "id": "3dce4500",
   "metadata": {},
   "source": [
    "Where cancellation policy is strict price range seems the higher and it even takes a few days or more for the host to response to client.<br>\n",
    "<b>Whereas with flexible and moderate cancellation policies, host response time takes maximum of a day to respond."
   ]
  },
  {
   "cell_type": "markdown",
   "id": "19eab711",
   "metadata": {},
   "source": [
    "### Q3. Which cities in Seattle provide the highest listings.\n",
    "\n"
   ]
  },
  {
   "cell_type": "code",
   "execution_count": 43,
   "id": "7663e2e7",
   "metadata": {},
   "outputs": [
    {
     "data": {
      "image/png": "[encoded data removed]",
      "text/plain": [
       "<Figure size 1800x720 with 1 Axes>"
      ]
     },
     "metadata": {
      "needs_background": "light"
     },
     "output_type": "display_data"
    }
   ],
   "source": [
    "#zipcodes with host_listings_count\n",
    "fig, ax = plt.subplots(figsize=(25, 10))\n",
    "sns.barplot(data=listings,x='zipcode',y='host_listings_count',ax=ax)\n",
    "plt.show()\n"
   ]
  },
  {
   "cell_type": "markdown",
   "id": "682f56f4",
   "metadata": {},
   "source": [
    "<b>Top 3 zipcodes with highest host listings count:<br>\n",
    "1. 98101\n",
    "2. 98121\n",
    "3. 98105</b>"
   ]
  },
  {
   "cell_type": "markdown",
   "id": "d11ac291",
   "metadata": {},
   "source": [
    "### Q4. How does people feel about their experience with the listings in Seattle."
   ]
  },
  {
   "cell_type": "markdown",
   "id": "b98fb676",
   "metadata": {},
   "source": [
    "### Sentiment analysis\n",
    "TextBlob is another excellent open-source library for performing NLP tasks with ease, including sentiment analysis. It also an a sentiment lexicon (in the form of an XML file) which it leverages to give both polarity and subjectivity scores.\n",
    "\n",
    "Typically, the scores have a normalized scale as compare to Afinn. The polarity score is a float within the range [-1.0, 1.0].\n"
   ]
  },
  {
   "cell_type": "code",
   "execution_count": 44,
   "id": "23944e6e",
   "metadata": {},
   "outputs": [
    {
     "name": "stdout",
     "output_type": "stream",
     "text": [
      "   listing_id        id        date  reviewer_id reviewer_name  \\\n",
      "0     7202016  38917982  2015-07-19     28943674        Bianca   \n",
      "1     7202016  39087409  2015-07-20     32440555         Frank   \n",
      "2     7202016  39820030  2015-07-26     37722850           Ian   \n",
      "3     7202016  40813543  2015-08-02     33671805        George   \n",
      "4     7202016  41986501  2015-08-10     34959538          Ming   \n",
      "\n",
      "                                            comments  comments_score  \n",
      "0  Cute and cozy place. Perfect location to every...        0.433333  \n",
      "1  Kelly has a great room in a very central locat...        0.301136  \n",
      "2  Very spacious apartment, and in a great neighb...        0.410417  \n",
      "3  Close to Seattle Center and all it has to offe...        0.358333  \n",
      "4  Kelly was a great host and very accommodating ...        0.493485  \n"
     ]
    }
   ],
   "source": [
    "#comments_score of comments from reviews\n",
    "reviews['comments_score'] = reviews['comments'].apply(lambda comment: TextBlob(comment).sentiment.polarity)\n",
    "print(reviews.head())"
   ]
  },
  {
   "cell_type": "code",
   "execution_count": 45,
   "id": "e92f8cfa",
   "metadata": {},
   "outputs": [],
   "source": [
    "#extracting date and year column\n",
    "reviews['date'] = pd.to_datetime(reviews['date'],format='%Y/%m/%d')\n",
    "reviews['year'] = reviews['date'].dt.year"
   ]
  },
  {
   "cell_type": "code",
   "execution_count": 46,
   "id": "7314ea25",
   "metadata": {},
   "outputs": [
    {
     "data": {
      "text/plain": [
       "year\n",
       "2009    0.380031\n",
       "2010    0.391480\n",
       "2011    0.400281\n",
       "2012    0.388009\n",
       "2013    0.387479\n",
       "2014    0.386493\n",
       "2015    0.394373\n",
       "2016    0.411008\n",
       "Name: comments_score, dtype: float64"
      ]
     },
     "execution_count": 46,
     "metadata": {},
     "output_type": "execute_result"
    }
   ],
   "source": [
    "#finding average of comments_score with respect to year\n",
    "df_group = reviews.groupby(['year'])['comments_score'].mean()\n",
    "\n",
    "df_group"
   ]
  },
  {
   "cell_type": "markdown",
   "id": "d7cdc162",
   "metadata": {},
   "source": [
    "<b>Looks like the average sentiment is positive in every case around.<br>That means people are having a gala time in Seattle!!!!!"
   ]
  },
  {
   "cell_type": "markdown",
   "id": "5c7d21dd",
   "metadata": {},
   "source": [
    "### Handling Categorical Data"
   ]
  },
  {
   "cell_type": "code",
   "execution_count": 47,
   "id": "fc802654",
   "metadata": {},
   "outputs": [],
   "source": [
    "#Let's try out adding dummy variables for the categorical variables into the model. \n",
    "#list of columns which can undergo get dummies treatment\n",
    "lis =['cancellation_policy','room_type','host_response_time','property_type']\n",
    "#'zipcode'"
   ]
  },
  {
   "cell_type": "code",
   "execution_count": 48,
   "id": "711aaccd",
   "metadata": {},
   "outputs": [],
   "source": [
    "#treating categorical variables by using get_dummies.\n",
    "listings_1 = pd.concat([listings.drop(lis, axis=1), pd.get_dummies(listings[lis], prefix=lis, prefix_sep='_', drop_first=True, dummy_na=False)], axis=1)"
   ]
  },
  {
   "cell_type": "code",
   "execution_count": 49,
   "id": "4bae67de",
   "metadata": {},
   "outputs": [],
   "source": [
    "#keeping numeric column variables\n",
    "final_df = listings_1.select_dtypes(exclude='object')"
   ]
  },
  {
   "cell_type": "markdown",
   "id": "c79d2e58",
   "metadata": {},
   "source": [
    "### 4.Data Modelling"
   ]
  },
  {
   "cell_type": "code",
   "execution_count": 50,
   "id": "3a8e0a34",
   "metadata": {},
   "outputs": [
    {
     "data": {
      "text/plain": [
       "Index(['id', 'host_id', 'host_listings_count', 'host_total_listings_count',\n",
       "       'latitude', 'longitude', 'accommodates', 'bathrooms', 'bedrooms',\n",
       "       'beds', 'square_feet', 'price', 'weekly_price', 'monthly_price',\n",
       "       'security_deposit', 'cleaning_fee', 'guests_included', 'minimum_nights',\n",
       "       'maximum_nights', 'availability_30', 'availability_60',\n",
       "       'availability_90', 'availability_365', 'number_of_reviews',\n",
       "       'review_scores_rating', 'review_scores_accuracy',\n",
       "       'review_scores_cleanliness', 'review_scores_checkin',\n",
       "       'review_scores_communication', 'review_scores_location',\n",
       "       'review_scores_value', 'calculated_host_listings_count',\n",
       "       'reviews_per_month', 'number_of_amenities',\n",
       "       'cancellation_policy_moderate', 'cancellation_policy_strict',\n",
       "       'room_type_Private room', 'room_type_Shared room',\n",
       "       'host_response_time_a few days or more',\n",
       "       'host_response_time_within a day',\n",
       "       'host_response_time_within a few hours',\n",
       "       'host_response_time_within an hour', 'property_type_Bed & Breakfast',\n",
       "       'property_type_Boat', 'property_type_Bungalow', 'property_type_Cabin',\n",
       "       'property_type_Camper/RV', 'property_type_Chalet',\n",
       "       'property_type_Condominium', 'property_type_Dorm',\n",
       "       'property_type_House', 'property_type_Loft', 'property_type_Other',\n",
       "       'property_type_Tent', 'property_type_Townhouse',\n",
       "       'property_type_Treehouse', 'property_type_Unknown',\n",
       "       'property_type_Yurt'],\n",
       "      dtype='object')"
      ]
     },
     "execution_count": 50,
     "metadata": {},
     "output_type": "execute_result"
    }
   ],
   "source": [
    "final_df.columns"
   ]
  },
  {
   "cell_type": "code",
   "execution_count": 51,
   "id": "0a22616c",
   "metadata": {},
   "outputs": [],
   "source": [
    "#instantiating y for ML process\n",
    "Y = final_df['price']"
   ]
  },
  {
   "cell_type": "code",
   "execution_count": 52,
   "id": "c92bc42a",
   "metadata": {},
   "outputs": [],
   "source": [
    "#columns need to get dropped as these are redundant.\n",
    "drop_list= ['id','host_id','price','host_listings_count','availability_30',\n",
    "       'availability_60', 'availability_90','number_of_reviews', 'review_scores_rating', 'review_scores_accuracy',\n",
    "       'review_scores_cleanliness', 'review_scores_checkin',\n",
    "       'review_scores_communication', 'review_scores_location','bathrooms', 'bedrooms', 'beds', 'square_feet', 'guests_included']"
   ]
  },
  {
   "cell_type": "code",
   "execution_count": 53,
   "id": "bd8fe8d0",
   "metadata": {},
   "outputs": [
    {
     "name": "stderr",
     "output_type": "stream",
     "text": [
      "/Users/Shared/anaconda3/lib/python3.9/site-packages/pandas/core/frame.py:4906: SettingWithCopyWarning: \n",
      "A value is trying to be set on a copy of a slice from a DataFrame\n",
      "\n",
      "See the caveats in the documentation: https://pandas.pydata.org/pandas-docs/stable/user_guide/indexing.html#returning-a-view-versus-a-copy\n",
      "  return super().drop(\n"
     ]
    }
   ],
   "source": [
    "final_df.drop(columns=drop_list,inplace=True)"
   ]
  },
  {
   "cell_type": "code",
   "execution_count": 54,
   "id": "09a4b0a6",
   "metadata": {},
   "outputs": [
    {
     "data": {
      "text/plain": [
       "Index(['host_total_listings_count', 'latitude', 'longitude', 'accommodates',\n",
       "       'weekly_price', 'monthly_price', 'security_deposit', 'cleaning_fee',\n",
       "       'minimum_nights', 'maximum_nights', 'availability_365',\n",
       "       'review_scores_value', 'calculated_host_listings_count',\n",
       "       'reviews_per_month', 'number_of_amenities',\n",
       "       'cancellation_policy_moderate', 'cancellation_policy_strict',\n",
       "       'room_type_Private room', 'room_type_Shared room',\n",
       "       'host_response_time_a few days or more',\n",
       "       'host_response_time_within a day',\n",
       "       'host_response_time_within a few hours',\n",
       "       'host_response_time_within an hour', 'property_type_Bed & Breakfast',\n",
       "       'property_type_Boat', 'property_type_Bungalow', 'property_type_Cabin',\n",
       "       'property_type_Camper/RV', 'property_type_Chalet',\n",
       "       'property_type_Condominium', 'property_type_Dorm',\n",
       "       'property_type_House', 'property_type_Loft', 'property_type_Other',\n",
       "       'property_type_Tent', 'property_type_Townhouse',\n",
       "       'property_type_Treehouse', 'property_type_Unknown',\n",
       "       'property_type_Yurt'],\n",
       "      dtype='object')"
      ]
     },
     "execution_count": 54,
     "metadata": {},
     "output_type": "execute_result"
    }
   ],
   "source": [
    "final_df.columns"
   ]
  },
  {
   "cell_type": "code",
   "execution_count": 55,
   "id": "2a3042a0",
   "metadata": {
    "scrolled": true
   },
   "outputs": [
    {
     "name": "stdout",
     "output_type": "stream",
     "text": [
      "<class 'pandas.core.frame.DataFrame'>\n",
      "RangeIndex: 3818 entries, 0 to 3817\n",
      "Data columns (total 39 columns):\n",
      " #   Column                                 Non-Null Count  Dtype  \n",
      "---  ------                                 --------------  -----  \n",
      " 0   host_total_listings_count              3818 non-null   float64\n",
      " 1   latitude                               3818 non-null   float64\n",
      " 2   longitude                              3818 non-null   float64\n",
      " 3   accommodates                           3818 non-null   int64  \n",
      " 4   weekly_price                           3818 non-null   float64\n",
      " 5   monthly_price                          3818 non-null   float64\n",
      " 6   security_deposit                       3818 non-null   float64\n",
      " 7   cleaning_fee                           3818 non-null   float64\n",
      " 8   minimum_nights                         3818 non-null   int64  \n",
      " 9   maximum_nights                         3818 non-null   int64  \n",
      " 10  availability_365                       3818 non-null   int64  \n",
      " 11  review_scores_value                    3818 non-null   float64\n",
      " 12  calculated_host_listings_count         3818 non-null   int64  \n",
      " 13  reviews_per_month                      3818 non-null   float64\n",
      " 14  number_of_amenities                    3818 non-null   int64  \n",
      " 15  cancellation_policy_moderate           3818 non-null   uint8  \n",
      " 16  cancellation_policy_strict             3818 non-null   uint8  \n",
      " 17  room_type_Private room                 3818 non-null   uint8  \n",
      " 18  room_type_Shared room                  3818 non-null   uint8  \n",
      " 19  host_response_time_a few days or more  3818 non-null   uint8  \n",
      " 20  host_response_time_within a day        3818 non-null   uint8  \n",
      " 21  host_response_time_within a few hours  3818 non-null   uint8  \n",
      " 22  host_response_time_within an hour      3818 non-null   uint8  \n",
      " 23  property_type_Bed & Breakfast          3818 non-null   uint8  \n",
      " 24  property_type_Boat                     3818 non-null   uint8  \n",
      " 25  property_type_Bungalow                 3818 non-null   uint8  \n",
      " 26  property_type_Cabin                    3818 non-null   uint8  \n",
      " 27  property_type_Camper/RV                3818 non-null   uint8  \n",
      " 28  property_type_Chalet                   3818 non-null   uint8  \n",
      " 29  property_type_Condominium              3818 non-null   uint8  \n",
      " 30  property_type_Dorm                     3818 non-null   uint8  \n",
      " 31  property_type_House                    3818 non-null   uint8  \n",
      " 32  property_type_Loft                     3818 non-null   uint8  \n",
      " 33  property_type_Other                    3818 non-null   uint8  \n",
      " 34  property_type_Tent                     3818 non-null   uint8  \n",
      " 35  property_type_Townhouse                3818 non-null   uint8  \n",
      " 36  property_type_Treehouse                3818 non-null   uint8  \n",
      " 37  property_type_Unknown                  3818 non-null   uint8  \n",
      " 38  property_type_Yurt                     3818 non-null   uint8  \n",
      "dtypes: float64(9), int64(6), uint8(24)\n",
      "memory usage: 537.0 KB\n"
     ]
    }
   ],
   "source": [
    "final_df.info()"
   ]
  },
  {
   "cell_type": "markdown",
   "id": "ec35b300",
   "metadata": {},
   "source": [
    "### Q5. Price Prediction"
   ]
  },
  {
   "cell_type": "markdown",
   "id": "60d2d7b9",
   "metadata": {},
   "source": [
    "### Predicting price"
   ]
  },
  {
   "cell_type": "markdown",
   "id": "69aec815",
   "metadata": {},
   "source": [
    "Training and Testing a Machine Learning Model"
   ]
  },
  {
   "cell_type": "code",
   "execution_count": 56,
   "id": "66263530",
   "metadata": {},
   "outputs": [
    {
     "name": "stdout",
     "output_type": "stream",
     "text": [
      "test_score:  0.65813994913086\n",
      "train_score:  0.8114644444237007\n",
      "The model is not overfitted.\n",
      "The r-squared score for the model is 0.65813994913086 on 1146 values. \n",
      "\n"
     ]
    }
   ],
   "source": [
    "#instantiating X\n",
    "X=final_df\n",
    "\n",
    "X_train,X_test,y_train,y_test = train_test_split(X,Y,test_size = 0.30,random_state=2022)\n",
    "\n",
    " \n",
    " # create regressor object\n",
    "regressor = RandomForestRegressor(n_estimators = 200,max_depth=7,random_state = 0)\n",
    " \n",
    "# fit the regressor with x and y data\n",
    "regressor.fit(X_train,y_train) \n",
    "\n",
    "y_test_predict = regressor.predict(X_test)\n",
    "y_train_predict = regressor.predict(X_train)\n",
    "test_score = r2_score(y_test, y_test_predict)\n",
    "train_score = r2_score(y_train, y_train_predict)\n",
    "\n",
    "print('test_score: ',test_score)\n",
    "print('train_score: ', train_score)\n",
    "if abs(test_score/train_score) > 0.8:\n",
    "    print('The model is not overfitted.')\n",
    "else:\n",
    "    print('Need to improve the model.')\n",
    "print('The r-squared score for the model is {} on {} values.'.format(test_score, len(y_test)),'\\n')\n",
    "\n"
   ]
  },
  {
   "cell_type": "markdown",
   "id": "c158dc83",
   "metadata": {},
   "source": [
    "### 5.Evaluation"
   ]
  },
  {
   "cell_type": "code",
   "execution_count": 57,
   "id": "2c8f3dce",
   "metadata": {},
   "outputs": [
    {
     "data": {
      "text/plain": [
       "array([4.69700790e-03, 2.29611509e-02, 3.06219643e-02, 3.88480943e-01,\n",
       "       2.67703306e-01, 5.69769143e-03, 3.48276484e-02, 8.29692078e-02,\n",
       "       7.37942332e-03, 6.07966981e-03, 1.83936862e-02, 2.02853217e-03,\n",
       "       2.00814606e-03, 3.42545475e-02, 1.42441462e-02, 7.91597808e-04,\n",
       "       1.35493309e-03, 3.43793859e-02, 1.76753745e-02, 1.23998342e-04,\n",
       "       5.49048141e-04, 2.31259585e-03, 1.21634358e-03, 7.94047538e-04,\n",
       "       1.16162043e-02, 0.00000000e+00, 0.00000000e+00, 8.46463548e-04,\n",
       "       0.00000000e+00, 3.07279201e-03, 5.24243116e-04, 1.61728936e-03,\n",
       "       6.92378187e-04, 1.30788935e-05, 0.00000000e+00, 7.31548005e-05,\n",
       "       0.00000000e+00, 0.00000000e+00, 0.00000000e+00])"
      ]
     },
     "execution_count": 57,
     "metadata": {},
     "output_type": "execute_result"
    }
   ],
   "source": [
    "#Evaluating the feature importance of all the column variables used\n",
    "regressor.feature_importances_"
   ]
  },
  {
   "cell_type": "code",
   "execution_count": 58,
   "id": "2bf4ce8f",
   "metadata": {},
   "outputs": [
    {
     "name": "stdout",
     "output_type": "stream",
     "text": [
      "Rank features by their impact on the price: \n",
      "                                   feature      coef  abs_coef\n",
      "3                            accommodates  0.388481  0.388481\n",
      "4                            weekly_price  0.267703  0.267703\n",
      "7                            cleaning_fee  0.082969  0.082969\n",
      "6                        security_deposit  0.034828  0.034828\n",
      "17                 room_type_Private room  0.034379  0.034379\n",
      "13                      reviews_per_month  0.034255  0.034255\n",
      "2                               longitude  0.030622  0.030622\n",
      "1                                latitude  0.022961  0.022961\n",
      "10                       availability_365  0.018394  0.018394\n",
      "18                  room_type_Shared room  0.017675  0.017675\n",
      "14                    number_of_amenities  0.014244  0.014244\n",
      "24                     property_type_Boat  0.011616  0.011616\n",
      "8                          minimum_nights  0.007379  0.007379\n",
      "9                          maximum_nights  0.006080  0.006080\n",
      "5                           monthly_price  0.005698  0.005698\n",
      "0               host_total_listings_count  0.004697  0.004697\n",
      "29              property_type_Condominium  0.003073  0.003073\n",
      "21  host_response_time_within a few hours  0.002313  0.002313\n",
      "11                    review_scores_value  0.002029  0.002029\n",
      "12         calculated_host_listings_count  0.002008  0.002008\n",
      "31                    property_type_House  0.001617  0.001617\n",
      "16             cancellation_policy_strict  0.001355  0.001355\n",
      "22      host_response_time_within an hour  0.001216  0.001216\n",
      "27                property_type_Camper/RV  0.000846  0.000846\n",
      "23          property_type_Bed & Breakfast  0.000794  0.000794\n",
      "15           cancellation_policy_moderate  0.000792  0.000792\n",
      "32                     property_type_Loft  0.000692  0.000692\n",
      "20        host_response_time_within a day  0.000549  0.000549\n",
      "30                     property_type_Dorm  0.000524  0.000524\n",
      "19  host_response_time_a few days or more  0.000124  0.000124\n",
      "35                property_type_Townhouse  0.000073  0.000073\n",
      "33                    property_type_Other  0.000013  0.000013\n",
      "28                   property_type_Chalet  0.000000  0.000000\n",
      "26                    property_type_Cabin  0.000000  0.000000\n",
      "25                 property_type_Bungalow  0.000000  0.000000\n",
      "34                     property_type_Tent  0.000000  0.000000\n",
      "36                property_type_Treehouse  0.000000  0.000000\n",
      "37                  property_type_Unknown  0.000000  0.000000\n",
      "38                     property_type_Yurt  0.000000  0.000000 \n",
      "\n"
     ]
    },
    {
     "data": {
      "image/png": "[encoded data removed]",
      "text/plain": [
       "<Figure size 1080x360 with 1 Axes>"
      ]
     },
     "metadata": {
      "needs_background": "light"
     },
     "output_type": "display_data"
    }
   ],
   "source": [
    "coef_df = pd.DataFrame()\n",
    "coef_df['feature'] = X_train.columns\n",
    "coef_df['coef'] = regressor.feature_importances_\n",
    "coef_df['abs_coef'] = np.abs(regressor.feature_importances_)\n",
    "coef_df = coef_df.sort_values(by=['abs_coef'], ascending=False)\n",
    "print('Rank features by their impact on the price: \\n', coef_df, '\\n')\n",
    "\n",
    "plt.figure(figsize = (15,5))\n",
    "plt.bar(coef_df['feature'], coef_df['abs_coef'])\n",
    "plt.xlabel('features')\n",
    "plt.xticks(coef_df['feature'], rotation = 90)\n",
    "plt.ylabel('abs_coef')\n",
    "plt.title('Rank features by their impact on the price')\n",
    "plt.show()"
   ]
  },
  {
   "cell_type": "markdown",
   "id": "ca494ef9",
   "metadata": {},
   "source": [
    "<b>These column variables seems to affect the most in deciding the price prediction.<br></b>\n",
    "accommodates<br>\n",
    "weekly_price<br>\n",
    "cleaning_fee<br>\n",
    "security_deposit<br>\n",
    "room_type_Private room<br>\n",
    "reviews_per_month<br>\n",
    "longitude<br>\n",
    "latitude<br>\n",
    "availability_365<br>\n",
    "room_type_Shared room<br>\n",
    "number_of_amenities<br>"
   ]
  },
  {
   "cell_type": "code",
   "execution_count": null,
   "id": "6c71b841",
   "metadata": {},
   "outputs": [],
   "source": []
  }
 ],
 "metadata": {
  "kernelspec": {
   "display_name": "Python 3 (ipykernel)",
   "language": "python",
   "name": "python3"
  },
  "language_info": {
   "codemirror_mode": {
    "name": "ipython",
    "version": 3
   },
   "file_extension": ".py",
   "mimetype": "text/x-python",
   "name": "python",
   "nbconvert_exporter": "python",
   "pygments_lexer": "ipython3",
   "version": "3.9.7"
  }
 },
 "nbformat": 4,
 "nbformat_minor": 5
}
